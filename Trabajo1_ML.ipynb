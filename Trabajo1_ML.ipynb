{
 "cells": [
  {
   "cell_type": "markdown",
   "metadata": {},
   "source": [
    "# Métodos de Aprendizaje de Máquina"
   ]
  },
  {
   "cell_type": "markdown",
   "metadata": {},
   "source": [
    "Se importa los paquetes necesarios tanto para cálculo como para graficar."
   ]
  },
  {
   "cell_type": "code",
   "execution_count": 1,
   "metadata": {
    "collapsed": true
   },
   "outputs": [],
   "source": [
    "import numpy as np\n",
    "import matplotlib.pyplot as plt\n",
    "import matplotlib.cm as cm\n",
    "import seaborn\n",
    "seaborn.set_style('whitegrid')\n",
    "%matplotlib inline\n",
    "%config InlineBackend.figure_format = 'retina'"
   ]
  },
  {
   "cell_type": "markdown",
   "metadata": {},
   "source": [
    "Cargamos el conjunto de entrenamiento Iris"
   ]
  },
  {
   "cell_type": "code",
   "execution_count": 2,
   "metadata": {
    "collapsed": true
   },
   "outputs": [],
   "source": [
    "from sklearn.datasets import load_iris\n",
    "#Usado para dividir el conjunto de Entrenamiento y de Prueba\n",
    "from sklearn.model_selection import train_test_split\n",
    "\n",
    "iris_data = load_iris()"
   ]
  },
  {
   "cell_type": "markdown",
   "metadata": {},
   "source": [
    "## Método de Naive Bayes\n",
    "\n",
    "Para la implementación se debe tomar en cuenta algunas cosas:\n",
    "\n",
    "1. Los datos no necesariamente estan agrupados, es decir, al inicio se encontrarán los pertenecientes a las clase 0, después los pertenecientes a las clase 1, etc.\n",
    "2. Se desconoce el número de datos por clase.\n",
    "\n",
    "Por ello la implementación debe ser capaz de realizar el entrenamiento sin que lo anterior sea un inconveniente.\n",
    "\n",
    "Con respecto al método, se necesita obtener los siguientes valores para la predicción:\n",
    "\n",
    "1. La frecuencia de cuantos datos tiene cada clase.\n",
    "2. El promedio de los datos con respecto a la característica por clase.\n",
    "$$\\mu_{i,j} = \\frac{1}{n_j} \\sum_{i = 1}^{n_j}{x_i}$$\n",
    "\n",
    "3. La desviación estandar de los datos con respecto a característica por clase.\n",
    "$$\\sigma^2_{i,j} = \\frac{1}{n_j} \\sum_{i = 1}^{n_j}{(x_i - \\mu_{i,j})^2}$$\n",
    "\n",
    "4. El cálculo de la probabilidad de un descriptor dada una clase se usará una transformada de Gauss.\n",
    "$$p(x | C_j) = \\frac{1}{\\sqrt{2\\pi\\sigma^2_j}} e^{-\\frac{(x - \\mu_j)^2}{2\\sigma^2_j}}$$"
   ]
  },
  {
   "cell_type": "code",
   "execution_count": 3,
   "metadata": {
    "collapsed": false
   },
   "outputs": [],
   "source": [
    "class NaiveBayes():\n",
    "    #El ingreso del número de clases es opcional o de lo contrario se determina en el entrenamiento.\n",
    "    def __init__(self, n_clases=None):\n",
    "        if n_clases is None:\n",
    "            self.n_ys   = None;\n",
    "        else:\n",
    "            self.n_ys   = n_clases;\n",
    "            \n",
    "        self.n_features = None;\n",
    "        \n",
    "        self.frec_clase = None;\n",
    "        self.mean       = None;\n",
    "        self.sd         = None;\n",
    "            \n",
    "        self.X          = None;\n",
    "        self.y          = None;\n",
    "\n",
    "    #Determina la frecuencia por clase, esto porque no necesariamente se tendrá el mismo número de elementos para cada clase\n",
    "    def frecuencia(self):\n",
    "        for i in self.y :\n",
    "            self.frec_clase[i] += 1; \n",
    "\n",
    "    #Calcula el promdedio dado por (clase, característica)        \n",
    "    def means(self):\n",
    "        accum   = np.zeros((self.n_ys,self.n_features));\n",
    "        \n",
    "        i       = 0;\n",
    "        while i < len(self.y):\n",
    "            j = 0;\n",
    "            while j < self.n_features:\n",
    "                accum[self.y[i]][j]   += self.X[i][j];\n",
    "                j += 1;\n",
    "            i += 1;\n",
    "            \n",
    "        i = 0;\n",
    "        while i < self.n_ys:\n",
    "            j = 0;\n",
    "            while j < self.n_features:\n",
    "                self.mean[i][j] = accum[i][j] / self.frec_clase[i];\n",
    "                j += 1;\n",
    "            i += 1;\n",
    "\n",
    "    #Calcula la desviación dado por (Clase, característica), se necesita que antes se calcule el promedio-\n",
    "    def sds(self):\n",
    "        accum   = np.zeros((self.n_ys,self.n_features));\n",
    "        \n",
    "        i       = 0;\n",
    "        while i < len(self.y):\n",
    "            j = 0;\n",
    "            while j < self.n_features:\n",
    "                accum[self.y[i]][j]   += np.power(self.X[i][j] - self.mean[self.y[i]][j], 2);\n",
    "                j += 1;\n",
    "            i += 1;\n",
    "            \n",
    "        i = 0;\n",
    "        while i < self.n_ys:\n",
    "            j = 0;\n",
    "            while j < self.n_features:\n",
    "                self.sd[i][j] = np.sqrt(accum[i][j] / (self.frec_clase[i]-1));\n",
    "                j += 1;\n",
    "            i += 1; \n",
    "        \n",
    "    #Calcula la probabilidad por clase dado un descriptor, determando que pertenece a la clase con mayor probabilidad\n",
    "    def predict(self,X):\n",
    "        result  = [];\n",
    "        prob_y_x = np.ones(self.n_ys);\n",
    "        \n",
    "        for x in X:\n",
    "            for i in range(self.n_ys):\n",
    "                exp       = np.exp( (np.divide((self.mean[i].transpose() - x) ,self.sd[i])* (self.mean[i]-x))/(-2.0)) ;\n",
    "                prob_x_y  = exp/ (np.power(2*np.pi, self.n_features/2.0) * np.sqrt(np.linalg.norm(self.sd[i])));\n",
    "                prob_y    = self.frec_clase[i]/float(len(self.y));\n",
    "                \n",
    "                prob_y_x[i] = np.prod(prob_x_y) * prob_y;\n",
    "            \n",
    "            result.append(np.argmax(prob_y_x));\n",
    "            \n",
    "        return result;\n",
    "    \n",
    "    #Entrenamiento: Hace el cálculo de los promedios y desviaciones estandar(De no saber el número de clases las obtine de los valore de y)\n",
    "    def learn(self, X, y):\n",
    "        self.X  = X;\n",
    "        self.y  = y;\n",
    "        \n",
    "        #Determina cuantas caracteríticas tiene cada descriptor\n",
    "        self.n_features = X.shape[1];\n",
    "        \n",
    "        if self.n_ys is None:\n",
    "            self.n_ys = y.max();\n",
    "            \n",
    "        self.frec_clase = np.zeros(self.n_ys);\n",
    "        self.frecuencia();\n",
    "        \n",
    "        self.mean       = np.zeros((self.n_ys,self.n_features));\n",
    "        self.means();\n",
    "        \n",
    "        self.sd         = np.zeros((self.n_ys,self.n_features));\n",
    "        self.sds();\n",
    "                \n",
    "    #Determina que porcentaje de aciertos tiene el clasificador con respecto a un conjunto de Test\n",
    "    def acc(self, X_test, y_test):\n",
    "        y_values = self.predict(X_test);\n",
    "        count    = 0;\n",
    "        for  i,j in zip(y_test,y_values):\n",
    "            if i == j:\n",
    "                count += 1.0;\n",
    "        return count/len(y_test);\n"
   ]
  },
  {
   "cell_type": "markdown",
   "metadata": {},
   "source": [
    "### Pruebas del Método de Naive Bayes\n",
    "\n",
    "Para probar el método sólo es necesario instanciar un objeto, si el número de clases no es ingresada como parámetro en el entrenamiento se determinará. "
   ]
  },
  {
   "cell_type": "code",
   "execution_count": 4,
   "metadata": {
    "collapsed": false
   },
   "outputs": [
    {
     "name": "stdout",
     "output_type": "stream",
     "text": [
      "Acc: 95.55555555555556%\n"
     ]
    }
   ],
   "source": [
    "#Se necesita ingresar el número de clases o sera calculado durante el entrenamiento\n",
    "entrenador = NaiveBayes(3);\n",
    "#Obtenemos un 30% de la data total para el test\n",
    "X_train, X_test, y_train, y_test = train_test_split(iris_data['data'], iris_data['target'], test_size = 0.30);\n",
    "entrenador.learn(X_train, y_train);\n",
    "print(\"Acc: \" + str(entrenador.acc(X_test, y_test)*100) + \"%\")"
   ]
  },
  {
   "cell_type": "markdown",
   "metadata": {},
   "source": [
    "## K-Nearest Neighbors\n",
    "\n",
    "Este método determina que dado un descriptor, la clase a la que pertenece es aquella que contine mayor número de puntos cercanos a dicho descriptor, de la siguiente manera:\n",
    "\n",
    "1. Calcula las distancias a cada uno de los puntos del conjunto de entrenamiento.\n",
    "\n",
    "2. Ordenar de mayor a menor las distancias, en este caso la distancia Euclidiana.\n",
    "$$d(X,Y) = \\sqrt{(x_1 - y_1)^2 + (x_2 - y_2)^2 ... + (x_n - y_n)^2 }$$\n",
    "\n",
    "\n",
    "3. De los k elementos más determinar, a que clase de elementos es más cercano. "
   ]
  },
  {
   "cell_type": "code",
   "execution_count": 5,
   "metadata": {
    "collapsed": true
   },
   "outputs": [],
   "source": [
    "from scipy.spatial import distance\n",
    "\n",
    "class KNN():\n",
    "    #El ingreso del número de clases es opcional o de lo contrario se determina en el entrenamiento y el valo de\n",
    "    # K es por defecto 3\n",
    "    def __init__(self, n_clases = None, k = 3):\n",
    "        if n_clases is None:\n",
    "            self.n_ys   = None;\n",
    "        else:\n",
    "            self.n_ys   = n_clases;\n",
    "            \n",
    "        self.k          = k;\n",
    "            \n",
    "        self.X          = None;\n",
    "        self.y          = None;\n",
    "\n",
    "    \n",
    "    #Predición: Calcula la clase con mayor número de elementos cercanos al dato x    \n",
    "    def predict(self,X):\n",
    "        result    = [];\n",
    "   \n",
    "        for x in X:\n",
    "            distances = [];\n",
    "            for x_train, y_train in zip(self.X, self.y):\n",
    "                distances.append((distance.euclidean(x, x_train), y_train));\n",
    "            distances = sorted(distances, key=lambda d: d[0]);\n",
    "\n",
    "            \n",
    "            count_k_y = np.zeros(self.n_ys);\n",
    "            for i in range(self.k):\n",
    "                count_k_y[distances[i][1]] += 1;\n",
    "                \n",
    "            result.append(np.argmax(count_k_y));\n",
    "                \n",
    "        return result;\n",
    "            \n",
    "            \n",
    "    #Entrenamiento: Sólo asigna el conjunto de entrada y salidas de entrenamiento.\n",
    "    def learn(self, X,y):\n",
    "        self.X  = X;\n",
    "        self.y  = y;\n",
    "        \n",
    "        if self.n_ys is None:\n",
    "            self.n_ys = y.max();        \n",
    "    \n",
    "    #Precisión: Calcula el procentaje de aciertos con respecto a un conjunto de Test\n",
    "    def acc(self, X_test, y_test):\n",
    "        y_values = self.predict(X_test);\n",
    "        count    = 0;\n",
    "        for  i,j in zip(y_test,y_values):\n",
    "            if i == j:\n",
    "                count += 1.0;\n",
    "        return count/len(y_test);\n",
    "    "
   ]
  },
  {
   "cell_type": "markdown",
   "metadata": {},
   "source": [
    "### Pruebas del Método KNN\n",
    "\n",
    "Sólo se necesita instanciar un objeto de la clase KNN, para lo cual puede pasarse como parámetros el número de clases o ella también será obtenida durante el proceso de entrenamiento. Por otro lado también si no se ingresa el número \"K\" de vecinos, este queda por defecto como 3."
   ]
  },
  {
   "cell_type": "code",
   "execution_count": 6,
   "metadata": {
    "collapsed": false
   },
   "outputs": [
    {
     "name": "stdout",
     "output_type": "stream",
     "text": [
      "Acc: 97.77777777777777%\n"
     ]
    }
   ],
   "source": [
    "#Se necesita ingresar el número de clases o sera calculado durante el entrenamiento y es opcional el valos de K\n",
    "entrenador = KNN(3);\n",
    "#Obtenemos un 30% de la data total para el test\n",
    "X_train, X_test, y_train, y_test = train_test_split(iris_data['data'], iris_data['target'], test_size = 0.30);\n",
    "entrenador.learn(X_train, y_train);\n",
    "print(\"Acc: \" + str(entrenador.acc(X_test, y_test)*100) + \"%\")"
   ]
  },
  {
   "cell_type": "markdown",
   "metadata": {},
   "source": [
    "## Comparaciones \n",
    "\n",
    "Del conjunto de datos se tomará aleatoriamente un porcentaje de ellos para que sea el conjunto de Prueba y el  restante el conjunto de Entrenamiento."
   ]
  },
  {
   "cell_type": "code",
   "execution_count": 7,
   "metadata": {
    "collapsed": false
   },
   "outputs": [],
   "source": [
    "#Porcentajes del conjunto de prueba de la data total\n",
    "test_sizes = np.array([0.20, 0.25, 0.30, 0.35, 0.40, 0.45, 0.50]);\n",
    "acc_bayes = np.zeros(7);\n",
    "acc_knn = np.zeros(7);\n",
    "\n",
    "for i in range(7):\n",
    "    #Dividimos el conjunto de entrenamiento y de prueba.\n",
    "    X_train, X_test, y_train, y_test = train_test_split(iris_data['data'], iris_data['target'], test_size = test_sizes[i]);\n",
    "    \n",
    "    entrenadorNB = NaiveBayes(3);\n",
    "    entrenadorNB.learn(X_train, y_train);\n",
    "    acc_bayes[i] = entrenadorNB.acc(X_test, y_test);\n",
    "    \n",
    "    \n",
    "    entrenadorKNN = KNN(3);\n",
    "    entrenadorKNN.learn(X_train, y_train);\n",
    "    acc_knn[i] = entrenadorKNN.acc(X_test, y_test);\n"
   ]
  },
  {
   "cell_type": "markdown",
   "metadata": {},
   "source": [
    "Mediante el siguiente gráfico se puede observar de manera comparativa la precisión entre ambos métodos. "
   ]
  },
  {
   "cell_type": "code",
   "execution_count": 8,
   "metadata": {
    "collapsed": false
   },
   "outputs": [
    {
     "data": {
      "image/png": "[encoded data removed]",
      "text/plain": [
       "<matplotlib.figure.Figure at 0x7fbf32bc0198>"
      ]
     },
     "metadata": {
      "image/png": {
       "height": 277,
       "width": 384
      }
     },
     "output_type": "display_data"
    }
   ],
   "source": [
    "width = 0.02;\n",
    "fig, ax = plt.subplots()\n",
    "ax.set_ylabel('Precisión');\n",
    "ax.set_xlabel('Porcentaje de Datos de Prueba');\n",
    "ax.set_title('Precisión de los Métodos');\n",
    "ax.set_xticks(test_sizes + width / 2);\n",
    "plot1 = plt.bar(test_sizes, acc_bayes , width, facecolor='#9999ff', edgecolor='white', label='Naive Bayes');\n",
    "plot2 = plt.bar(test_sizes + width, acc_knn, width, facecolor='#ff9999', edgecolor='white', label='KNN');\n",
    "ax.legend((plot1, plot2), ('Naive Bayes', 'KNN'));\n",
    "ax.set_ylim(0, 1.3);\n"
   ]
  },
  {
   "cell_type": "markdown",
   "metadata": {},
   "source": [
    "También es posible ver como es la distribución de la precisión de las predicciones. De tal manera podemos observar que KNN tiene mejores resultados que Naive Bayes."
   ]
  },
  {
   "cell_type": "code",
   "execution_count": 9,
   "metadata": {
    "collapsed": false
   },
   "outputs": [
    {
     "data": {
      "image/png": "[encoded data removed]",
      "text/plain": [
       "<matplotlib.figure.Figure at 0x7fbf32bc0a20>"
      ]
     },
     "metadata": {
      "image/png": {
       "height": 277,
       "width": 390
      }
     },
     "output_type": "display_data"
    }
   ],
   "source": [
    "mpl_fig = plt.figure();\n",
    "ax = mpl_fig.add_subplot(111);\n",
    "labels = ['Naive Bayes', 'KNN'];\n",
    "bp = ax.boxplot([acc_bayes, acc_knn], vert=True, patch_artist=True, labels=labels);\n",
    "ax.set_title('Comparativa de Precisión');\n",
    "ax.set_ylabel('Precisión');\n",
    "ax.set_xlabel('Método');\n",
    "\n",
    "\n",
    "colors = ['lightblue', 'lightgreen']\n",
    "for patch, color in zip(bp['boxes'], colors):\n",
    "    patch.set_facecolor(color)"
   ]
  }
 ],
 "metadata": {
  "kernelspec": {
   "display_name": "Python 3",
   "language": "python",
   "name": "python3"
  },
  "language_info": {
   "codemirror_mode": {
    "name": "ipython",
    "version": 3
   },
   "file_extension": ".py",
   "mimetype": "text/x-python",
   "name": "python",
   "nbconvert_exporter": "python",
   "pygments_lexer": "ipython3",
   "version": "3.6.0"
  }
 },
 "nbformat": 4,
 "nbformat_minor": 2
}
